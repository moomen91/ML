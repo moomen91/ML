{
 "cells": [
  {
   "cell_type": "markdown",
   "metadata": {},
   "source": [
    "# Statistical Foundations of Mahicne Learning\n",
    "## 3rd_Assignment -- Moamin Abdulkareem\n",
    "## Analyzing breast cancer dataset\n"
   ]
  },
  {
   "cell_type": "markdown",
   "metadata": {},
   "source": [
    "### Imports"
   ]
  },
  {
   "cell_type": "code",
   "execution_count": 15,
   "metadata": {},
   "outputs": [],
   "source": [
    "import numpy as np\n",
    "from csv import reader\n",
    "from sklearn import preprocessing\n",
    "from sklearn.linear_model import LogisticRegression\n",
    "from sklearn.model_selection import train_test_split\n",
    "from matplotlib import pyplot as plt\n",
    "from sklearn.metrics import  mean_squared_error\n",
    "from sklearn.feature_selection import RFE\n",
    "from sklearn.model_selection import KFold\n",
    "from sklearn.neural_network import MLPClassifier\n",
    "from sklearn.preprocessing import StandardScaler\n",
    "%matplotlib inline"
   ]
  },
  {
   "cell_type": "markdown",
   "metadata": {},
   "source": [
    "### Loading the dataset using csv_reader"
   ]
  },
  {
   "cell_type": "code",
   "execution_count": 75,
   "metadata": {},
   "outputs": [],
   "source": [
    "\n",
    "# loading the dataset\n",
    "# I will use csv reader to load the dataset\n",
    "def load_csv(filename):\n",
    "    dataset = list()\n",
    "    f = open(filename,'r')\n",
    "    \n",
    "    csv_reader = reader(f)\n",
    "    \n",
    "    for row in csv_reader:\n",
    "        if not row:\n",
    "            continue\n",
    "        dataset.append(row)\n",
    "        \n",
    "    return dataset\n"
   ]
  },
  {
   "cell_type": "code",
   "execution_count": 76,
   "metadata": {},
   "outputs": [],
   "source": [
    "file = 'Features_MC.csv'\n",
    "dataset = load_csv(file)\n",
    "data_array = np.asarray(dataset)\n"
   ]
  },
  {
   "cell_type": "markdown",
   "metadata": {},
   "source": [
    "### Removing ID attributes from the dataset"
   ]
  },
  {
   "cell_type": "code",
   "execution_count": 77,
   "metadata": {},
   "outputs": [],
   "source": [
    "def delete_irrelevant_features(x):\n",
    "\n",
    "    # here we delete the attributes of ids which we have to remove before any computation\n",
    "    # and also the first row which is the names of the attributes is also going to be removed\n",
    "\n",
    "    x = np.delete(x, 0, axis=1)  # first column which is ID\n",
    "    x = np.delete(x, 1, axis=1)  # third column which is sampleID\n",
    "    x = np.delete(x, 1, axis=1)  #forth column which is microID\n",
    "    features = x[0,:]\n",
    "    x = np.delete(x, 0, axis=0)  # features names which is the first row\n",
    "\n",
    "    return x, features"
   ]
  },
  {
   "cell_type": "code",
   "execution_count": 78,
   "metadata": {},
   "outputs": [],
   "source": [
    "# Applying the function on our dataset\n",
    "\n",
    "data_array, features_vector = delete_irrelevant_features(data_array)\n",
    "\n",
    "# features vector without class values\n",
    "\n",
    "features_vector = features_vector[1:]"
   ]
  },
  {
   "cell_type": "markdown",
   "metadata": {},
   "source": [
    "### Filling missing values"
   ]
  },
  {
   "cell_type": "code",
   "execution_count": 79,
   "metadata": {},
   "outputs": [],
   "source": [
    "def fill_missing_values(x):\n",
    "\n",
    "    # replacing the missing values with the mean of the column\n",
    "    # first of all we will put nan values instead of question mark\n",
    "    # then we take the mean of the each column to replace the missing values by it\n",
    "\n",
    "    for row in x:\n",
    "\n",
    "        for i in range(len(row)):\n",
    "\n",
    "            try:\n",
    "                float(row[i])\n",
    "\n",
    "            except ValueError:\n",
    "\n",
    "                row[i] = np.NaN\n",
    "\n",
    "    x = x.astype(float)\n",
    "\n",
    "    # this function takes the mean of each column without considering the nan values\n",
    "    \n",
    "    columns_means = np.nanmean(x, axis=0) \n",
    "    \n",
    "    # getting the indices of the nan values\n",
    "    \n",
    "    inds = np.where(np.isnan(x)) \n",
    "\n",
    "    # filling the missing values for the mean of each column that we calculated in the list of columns means\n",
    "    \n",
    "    x[inds] = np.take(columns_means, inds[1]) \n",
    "\n",
    "    return x\n",
    "\n",
    "data_array = fill_missing_values(data_array)"
   ]
  },
  {
   "cell_type": "markdown",
   "metadata": {},
   "source": [
    "### Binarizing class labels"
   ]
  },
  {
   "cell_type": "code",
   "execution_count": 80,
   "metadata": {},
   "outputs": [],
   "source": [
    "\n",
    "def  binarize_class_values(x):\n",
    "\n",
    "    lb = preprocessing.LabelBinarizer() # I imported the labelBinarizer to change the class values to binary\n",
    "    classes = lb.fit_transform(x[:,0])  # the class values in the dataset is the first column\n",
    "\n",
    "    for i in range(len(x)):\n",
    "\n",
    "        x[i][0] = classes[i]\n",
    "\n",
    "    return x\n"
   ]
  },
  {
   "cell_type": "code",
   "execution_count": 81,
   "metadata": {},
   "outputs": [],
   "source": [
    "\n",
    "data_array = binarize_class_values(data_array)\n",
    "\n",
    "x = data_array[:,1:]# this is the dataset without class values\n",
    "\n",
    "y = data_array[:,0] # this is the class labels or the targets\n"
   ]
  },
  {
   "cell_type": "markdown",
   "metadata": {},
   "source": [
    "### Splitting and visualizing "
   ]
  },
  {
   "cell_type": "code",
   "execution_count": 82,
   "metadata": {
    "scrolled": true
   },
   "outputs": [
    {
     "name": "stdout",
     "output_type": "stream",
     "text": [
      "Number of training examples:  2211\n",
      "Number of testing examples:  1474\n"
     ]
    },
    {
     "data": {
      "image/png": "[encoded data removed]",
      "text/plain": [
       "<matplotlib.figure.Figure at 0x7f137e5daa58>"
      ]
     },
     "metadata": {},
     "output_type": "display_data"
    }
   ],
   "source": [
    "'''Splitting the data into training and testing i.e. 60% goes for training and 40% for testing'''\n",
    "X_train, X_test, Y_train, Y_test = train_test_split(x, y, test_size=0.4)\n",
    "\n",
    "print(\"Number of training examples: \",X_train.shape[0])\n",
    "print(\"Number of testing examples: \",X_test.shape[0])\n",
    "\n",
    "# visualize the dataset using histogram\n",
    "labels = ['Malignant', 'Benign']\n",
    "\n",
    "population = [np.sum(y==0), np.sum(y)]\n",
    "y_pos = np.arange(len(labels))\n",
    "barlist = plt.bar(y_pos, population, align='center',width=0.5)\n",
    "plt.xticks(y_pos, labels)\n",
    "plt.ylabel('Number of examples')\n",
    "plt.title('Breast Cancer Dataset')\n",
    "barlist[0].set_color('r')\n",
    "plt.show()"
   ]
  },
  {
   "cell_type": "markdown",
   "metadata": {},
   "source": [
    "###  Scaling the dataset using StandardScaler"
   ]
  },
  {
   "cell_type": "code",
   "execution_count": 83,
   "metadata": {},
   "outputs": [],
   "source": [
    "scaler = StandardScaler()\n",
    "scaler.fit(X_train)\n",
    "X_train_scaled = scaler.transform(X_train)\n",
    "X_test_scaled = scaler.transform(X_test)\n"
   ]
  },
  {
   "cell_type": "markdown",
   "metadata": {},
   "source": [
    "### Applying Logistic Regression model"
   ]
  },
  {
   "cell_type": "code",
   "execution_count": 84,
   "metadata": {},
   "outputs": [
    {
     "name": "stdout",
     "output_type": "stream",
     "text": [
      "Error on test set using logistic regression:  0.20420624151967434\n"
     ]
    }
   ],
   "source": [
    "'''We have to define a threshold which will be used to predict the output of the labels\n",
    "and if the probability was greater than the threshold then the label is assigned to 1 otherwise 0'''\n",
    "\n",
    "threshold = 0.5\n",
    "\n",
    "# Applying the model on the training data\n",
    "\n",
    "model = LogisticRegression()\n",
    "\n",
    "model.fit(X_train_scaled, Y_train)\n",
    "\n",
    "predicted_labels = model.predict(X_test_scaled) > threshold\n",
    "\n",
    "\n",
    "print(\"Error on test set using logistic regression: \" ,mean_squared_error(y_true=Y_test, y_pred= predicted_labels))"
   ]
  },
  {
   "cell_type": "markdown",
   "metadata": {},
   "source": [
    "### Getting cross validation error"
   ]
  },
  {
   "cell_type": "code",
   "execution_count": 85,
   "metadata": {},
   "outputs": [],
   "source": [
    "def get_ECV(X,y,classifier,num_folds):\n",
    "    \n",
    "    scaler = StandardScaler()\n",
    "    X_scaled = scaler.fit_transform(X)\n",
    "    kf = KFold(n_splits=num_folds)\n",
    "    kf.get_n_splits(X_scaled)\n",
    "    \n",
    "    \n",
    "    Ens = list()\n",
    "    \n",
    "    for train_index, test_index in kf.split(X_scaled):\n",
    "        \n",
    "        x_train, x_test = x[train_index], x[test_index]\n",
    "        y_train, y_test = y[train_index], y[test_index]\n",
    "        clf = classifier\n",
    "        clf.fit(x_train, y_train)\n",
    "        y_predicted = clf.predict(x_test)\n",
    "        accuracy_test = mean_squared_error(y_pred=y_predicted, y_true=y_test)\n",
    "        Ens.append(accuracy_test)\n",
    "        \n",
    "    ECV = sum(Ens) / num_folds\n",
    "    \n",
    "    return ECV, Ens\n"
   ]
  },
  {
   "cell_type": "code",
   "execution_count": 86,
   "metadata": {},
   "outputs": [
    {
     "name": "stdout",
     "output_type": "stream",
     "text": [
      "[0.27100271002710025, 0.26287262872628725, 0.5636856368563685, 0.056910569105691054, 0.2682926829268293, 0.09510869565217392, 0.07880434782608696, 0.4945652173913043, 0.9619565217391305, 0.33152173913043476]\n",
      "Average cross validation error using logistic regression:  0.33847207493814063\n"
     ]
    }
   ],
   "source": [
    "cross_val_error_LR, EN = get_ECV(x, y,classifier = LogisticRegression(), num_folds=10)\n",
    "print(EN)\n",
    "print(\"Average cross validation error using logistic regression: \",cross_val_error)"
   ]
  },
  {
   "cell_type": "markdown",
   "metadata": {},
   "source": [
    "### Cross validation error using Multi-layer perceptron"
   ]
  },
  {
   "cell_type": "code",
   "execution_count": 87,
   "metadata": {},
   "outputs": [
    {
     "name": "stdout",
     "output_type": "stream",
     "text": [
      "[0.2899728997289973, 0.6747967479674797, 0.4146341463414634, 0.032520325203252036, 0.34417344173441733, 0.4076086956521739, 0.07336956521739131, 0.5081521739130435, 0.842391304347826, 0.5054347826086957]\n",
      "Average cross validation error using Multi-layer perceptron:  0.40930540827147405\n"
     ]
    }
   ],
   "source": [
    "cross_val_error_MLP, ENs = get_ECV(x,y, classifier=tree.DecisionTreeClassifier(), num_folds=10)\n",
    "print(ENs)\n",
    "print(\"Average cross validation error using Multi-layer perceptron: \", cross_val_error_MLP)"
   ]
  },
  {
   "cell_type": "markdown",
   "metadata": {},
   "source": [
    "### Getting selected attributes"
   ]
  },
  {
   "cell_type": "code",
   "execution_count": 68,
   "metadata": {},
   "outputs": [
    {
     "name": "stdout",
     "output_type": "stream",
     "text": [
      "The 10 selected features that contribute the most in the prediction using Logistic regression:  [' x', ' rmean', ' rstd', ' b1mean', ' surfovervol', 'Sum Average', 'SRE', 'RP', 'HGRE', 'Complexity']\n"
     ]
    }
   ],
   "source": [
    "'''Getting the 10 most important features in the dataset based on Logistic Regression '''\n",
    "rfe = RFE(LogisticRegression(),10)\n",
    "\n",
    "rfe.fit(X_train_scaled,Y_train)\n",
    "\n",
    "\n",
    "selected_features = [features_vector[i] for i in range(len(features_vector)) if rfe.ranking_[i] == 1]\n",
    "\n",
    "# Extracting the indices of the selected features which in this case has a rank of 1 in the rfe.ranking_ vector\n",
    "# And then by using these indices we can get our features\n",
    "\n",
    "print(\"The 10 selected features that contribute the most in the prediction using Logistic regression: \",selected_features)\n"
   ]
  },
  {
   "cell_type": "code",
   "execution_count": null,
   "metadata": {},
   "outputs": [],
   "source": []
  }
 ],
 "metadata": {
  "kernelspec": {
   "display_name": "Python 3",
   "language": "python",
   "name": "python3"
  },
  "language_info": {
   "codemirror_mode": {
    "name": "ipython",
    "version": 3
   },
   "file_extension": ".py",
   "mimetype": "text/x-python",
   "name": "python",
   "nbconvert_exporter": "python",
   "pygments_lexer": "ipython3",
   "version": "3.6.4"
  }
 },
 "nbformat": 4,
 "nbformat_minor": 2
}
