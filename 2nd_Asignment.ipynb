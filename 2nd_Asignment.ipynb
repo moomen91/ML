{
 "cells": [
  {
   "cell_type": "markdown",
   "metadata": {},
   "source": [
    "# 2nd_Asignment-- Moamin Abdulkareem\n",
    "\n",
    "## Problem 4.24 Linear regression with weight decay\n"
   ]
  },
  {
   "cell_type": "code",
   "execution_count": 1,
   "metadata": {},
   "outputs": [],
   "source": [
    "import numpy as np\n",
    "from sklearn.metrics import mean_squared_error\n",
    "from sklearn.model_selection import train_test_split\n"
   ]
  },
  {
   "cell_type": "code",
   "execution_count": 9,
   "metadata": {},
   "outputs": [],
   "source": [
    "def generate(n, d):\n",
    "    X = list()\n",
    "    weights = list()\n",
    "    mu = 0\n",
    "    sigma = 1\n",
    "    # we have three dimensions\n",
    "    for i in range(d):\n",
    "\n",
    "        x = np.random.normal(mu, sigma, n)\n",
    "\n",
    "        X. append(x)\n",
    "    for i in range(d + 1):\n",
    "\n",
    "        weights.append(np.random.normal(mu, sigma))\n",
    "\n",
    "    epsilon_list = [np.random.normal(0,1) for i in range(n)]\n",
    "\n",
    "    return X, weights, epsilon_list\n"
   ]
  },
  {
   "cell_type": "code",
   "execution_count": 16,
   "metadata": {},
   "outputs": [],
   "source": [
    "data, target_weights, epsilon_values = generate(200, 3)\n",
    "data = np.asarray(data)\n",
    "\n",
    "data = np.swapaxes(data, 0, 1)\n",
    "\n",
    "# adding the intercept term\n",
    "\n",
    "data = np.hstack((np.ones((data.shape[0], 1), dtype=data.dtype), data))"
   ]
  },
  {
   "cell_type": "code",
   "execution_count": 17,
   "metadata": {},
   "outputs": [],
   "source": [
    "def get_target_function(points, weights, epsilons, sigma):\n",
    "\n",
    "    targets = list()\n",
    "    weights = np.asarray(weights)\n",
    "\n",
    "    for i in range(points.shape[0]):\n",
    "        target = weights.T.dot(points[i]) + sigma * epsilons[i]\n",
    "        targets.append(target)\n",
    "\n",
    "    return targets"
   ]
  },
  {
   "cell_type": "code",
   "execution_count": 18,
   "metadata": {},
   "outputs": [],
   "source": [
    "target_values = get_target_function(data, target_weights, epsilon_values, sigma=0.5)\n",
    "\n",
    "# Splitting the data for training and testing\n",
    "X_train, X_test, Y_train, Y_test = train_test_split(data, target_values, test_size=0.4)\n",
    "\n"
   ]
  },
  {
   "cell_type": "code",
   "execution_count": 19,
   "metadata": {},
   "outputs": [],
   "source": [
    "# Here we will calculate the pseudo inverse to get the regularized weights\n",
    "\n",
    "def regularized_pseudo_inverse(X, beta):\n",
    "\n",
    "    dim = X.shape[1]\n",
    "    pinv = np.matmul(np.linalg.inv(np.matmul(X.T, X) + beta * np.identity(dim)), X.T)\n",
    "\n",
    "    return pinv"
   ]
  },
  {
   "cell_type": "code",
   "execution_count": 20,
   "metadata": {},
   "outputs": [
    {
     "name": "stdout",
     "output_type": "stream",
     "text": [
      "[-1.15335362 -2.34107212 -0.07141972  0.0966028 ]\n"
     ]
    }
   ],
   "source": [
    "# Now we will use this parameter for regularization\n",
    "\n",
    "reg_parameter = 0.05 / data.shape[0]\n",
    "\n",
    "regularized_weights = np.matmul(regularized_pseudo_inverse(X_train, reg_parameter), Y_train)\n",
    "\n",
    "print(regularized_weights)\n"
   ]
  },
  {
   "cell_type": "code",
   "execution_count": 21,
   "metadata": {},
   "outputs": [
    {
     "name": "stdout",
     "output_type": "stream",
     "text": [
      "0.19710874499063888\n"
     ]
    }
   ],
   "source": [
    "y_predicted = np.matmul(X_test, regularized_weights)\n",
    "\n",
    "# To calculate the mean squared error\n",
    "\n",
    "mse = mean_squared_error(y_true=Y_test, y_pred=y_predicted)\n",
    "\n",
    "print(mse)\n"
   ]
  },
  {
   "cell_type": "code",
   "execution_count": null,
   "metadata": {},
   "outputs": [],
   "source": []
  }
 ],
 "metadata": {
  "kernelspec": {
   "display_name": "Python 3",
   "language": "python",
   "name": "python3"
  },
  "language_info": {
   "codemirror_mode": {
    "name": "ipython",
    "version": 3
   },
   "file_extension": ".py",
   "mimetype": "text/x-python",
   "name": "python",
   "nbconvert_exporter": "python",
   "pygments_lexer": "ipython3",
   "version": "3.6.4"
  }
 },
 "nbformat": 4,
 "nbformat_minor": 2
}
